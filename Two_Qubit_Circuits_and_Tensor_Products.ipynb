{
  "cells": [
    {
      "cell_type": "code",
      "execution_count": 16,
      "id": "bcfe036b",
      "metadata": {
        "id": "bcfe036b"
      },
      "outputs": [],
      "source": [
        "from qiskit import QuantumCircuit\n",
        "try:\n",
        "    from qiskit_aer import Aer\n",
        "except ImportError:\n",
        "    from qiskit.providers.aer import Aer\n",
        "from qiskit.visualization import plot_histogram, plot_bloch_multivector\n",
        "import matplotlib.pyplot as plt\n"
      ]
    },
    {
      "cell_type": "code",
      "execution_count": 3,
      "id": "756nXICn1Bc3",
      "metadata": {
        "id": "756nXICn1Bc3"
      },
      "outputs": [],
      "source": [
        "# Step 1: Create a quantum circuit with 2 qubits and 2 classical bits\n",
        "qc = QuantumCircuit(2, 2)\n",
        "\n"
      ]
    },
    {
      "cell_type": "code",
      "execution_count": 4,
      "id": "eDhUQ9xT1C_o",
      "metadata": {
        "colab": {
          "base_uri": "https://localhost:8080/"
        },
        "id": "eDhUQ9xT1C_o",
        "outputId": "d0011097-5699-4295-fc92-ce5f12e9f094"
      },
      "outputs": [
        {
          "data": {
            "text/plain": [
              "<qiskit.circuit.instructionset.InstructionSet at 0x2527194a2e0>"
            ]
          },
          "execution_count": 4,
          "metadata": {},
          "output_type": "execute_result"
        }
      ],
      "source": [
        "# Step 2: Apply gates to demonstrate tensor product states\n",
        "qc.x(0)  # Apply X gate on qubit 0 → |10>\n",
        "\n"
      ]
    },
    {
      "cell_type": "code",
      "execution_count": 5,
      "id": "WoXYGAQC1GGU",
      "metadata": {
        "colab": {
          "base_uri": "https://localhost:8080/"
        },
        "id": "WoXYGAQC1GGU",
        "outputId": "43be64a8-d080-4420-c7f0-0840973ec808"
      },
      "outputs": [
        {
          "data": {
            "text/plain": [
              "<qiskit.circuit.instructionset.InstructionSet at 0x2527194a3a0>"
            ]
          },
          "execution_count": 5,
          "metadata": {},
          "output_type": "execute_result"
        }
      ],
      "source": [
        "# Step 3: Measure both qubits\n",
        "qc.measure([0, 1], [0, 1])\n",
        "\n"
      ]
    },
    {
      "cell_type": "code",
      "execution_count": 6,
      "id": "4THEs7hr1HpE",
      "metadata": {
        "id": "4THEs7hr1HpE"
      },
      "outputs": [],
      "source": [
        "# Step 4: Use AerSimulator (new standard in Qiskit 2.x)\n",
        "simulator = AerSimulator()\n",
        "\n",
        "# Transpile the circuit for the simulator\n",
        "from qiskit import transpile\n",
        "compiled_circuit = transpile(qc, simulator)\n",
        "\n",
        "# Run the circuit\n",
        "job = simulator.run(compiled_circuit, shots=1024)\n",
        "result = job.result()\n",
        "\n",
        "# Get counts\n",
        "counts = result.get_counts()\n",
        "\n"
      ]
    },
    {
      "cell_type": "code",
      "execution_count": 11,
      "id": "Jt8Ne3kH1Jcc",
      "metadata": {
        "colab": {
          "base_uri": "https://localhost:8080/"
        },
        "id": "Jt8Ne3kH1Jcc",
        "outputId": "052be6bf-22f3-445a-989d-f34139f51331"
      },
      "outputs": [
        {
          "name": "stdout",
          "output_type": "stream",
          "text": [
            "Measurement Results: {'01': 1024}\n"
          ]
        }
      ],
      "source": [
        "# Step 5: Display circuit and results\n",
        "print(\"Measurement Results:\", counts)\n",
        "qc.draw('text')\n",
        "plt.show()\n",
        "plot_histogram(counts)\n",
        "plt.show()"
      ]
    },
    {
      "cell_type": "markdown",
      "id": "8f9df520",
      "metadata": {},
      "source": [
        "Import Necessary Libraries"
      ]
    },
    {
      "cell_type": "code",
      "execution_count": 13,
      "id": "7ee84a8c",
      "metadata": {},
      "outputs": [],
      "source": [
        "from qiskit import QuantumCircuit\n",
        "try:\n",
        "    from qiskit_aer import Aer\n",
        "except ImportError:\n",
        "    from qiskit.providers.aer import Aer\n",
        "from qiskit.visualization import plot_histogram\n",
        "import matplotlib.pyplot as plt"
      ]
    },
    {
      "cell_type": "markdown",
      "id": "7be1a313",
      "metadata": {},
      "source": [
        " Create Original Circuit"
      ]
    },
    {
      "cell_type": "code",
      "execution_count": 19,
      "id": "349855b3",
      "metadata": {},
      "outputs": [],
      "source": [
        "qc = QuantumCircuit(2)\n",
        "qc.x(0)\n",
        "qc.h(1)\n",
        "qc.measure_all()"
      ]
    },
    {
      "cell_type": "markdown",
      "id": "0080ff10",
      "metadata": {},
      "source": [
        " Simulate Circuit and Plot Results"
      ]
    },
    {
      "cell_type": "code",
      "execution_count": 21,
      "id": "e6841339",
      "metadata": {},
      "outputs": [
        {
          "data": {
            "image/png": "[encoded data removed]",
            "text/plain": [
              "<Figure size 496.776x284.278 with 1 Axes>"
            ]
          },
          "metadata": {},
          "output_type": "display_data"
        }
      ],
      "source": [
        "simulator = Aer.get_backend('qasm_simulator')\n",
        "job = simulator.run(qc, shots=1024)\n",
        "result = job.result()\n",
        "counts = result.get_counts()\n",
        "display(qc.draw(output='mpl'))\n",
        "plot_histogram(counts)\n",
        "plt.show()"
      ]
    },
    {
      "cell_type": "markdown",
      "id": "5dd12bc5",
      "metadata": {},
      "source": [
        "Practical Task 1: Hadamard on Both Qubits"
      ]
    },
    {
      "cell_type": "code",
      "execution_count": 23,
      "id": "26535747",
      "metadata": {},
      "outputs": [
        {
          "data": {
            "image/png": "[encoded data removed]",
            "text/plain": [
              "<Figure size 496.776x284.278 with 1 Axes>"
            ]
          },
          "metadata": {},
          "output_type": "display_data"
        }
      ],
      "source": [
        "qc1 = QuantumCircuit(2)\n",
        "qc1.h([0,1])\n",
        "qc1.measure_all()\n",
        "job1 = simulator.run(qc1, shots=1024)\n",
        "result1 = job1.result()\n",
        "counts1 = result1.get_counts()\n",
        "display(qc1.draw(output='mpl'))\n",
        "plot_histogram(counts1)\n",
        "plt.show()"
      ]
    },
    {
      "cell_type": "markdown",
      "id": "ad92e0d4",
      "metadata": {},
      "source": [
        "Task 2: Swap Qubit Roles"
      ]
    },
    {
      "cell_type": "code",
      "execution_count": null,
      "id": "4fe229e9",
      "metadata": {},
      "outputs": [
        {
          "data": {
            "image/png": "[encoded data removed]",
            "text/plain": [
              "<Figure size 496.776x284.278 with 1 Axes>"
            ]
          },
          "metadata": {},
          "output_type": "display_data"
        }
      ],
      "source": [
        "qc2 = QuantumCircuit(2)\n",
        "qc2.x(1)\n",
        "qc2.h(0)\n",
        "qc2.measure_all()\n",
        "job2 = simulator.run(qc2, shots=1024)\n",
        "result2 = job2.result()\n",
        "counts2 = result2.get_counts()\n",
        "display(qc2.draw(output='mpl'))\n",
        "plot_histogram(counts2)\n",
        "plt.show()"
      ]
    },
    {
      "cell_type": "markdown",
      "id": "ff1ed66f",
      "metadata": {},
      "source": [
        " Task 3: Add a CNOT Gate"
      ]
    },
    {
      "cell_type": "code",
      "execution_count": null,
      "id": "b9444848",
      "metadata": {},
      "outputs": [
        {
          "data": {
            "image/png": "[encoded data removed]",
            "text/plain": [
              "<Figure size 580.387x284.278 with 1 Axes>"
            ]
          },
          "metadata": {},
          "output_type": "display_data"
        }
      ],
      "source": [
        "qc3 = QuantumCircuit(2)\n",
        "qc3.h(0)\n",
        "qc3.cx(0, 1)\n",
        "qc3.measure_all()\n",
        "job3 = simulator.run(qc3, shots=1024)\n",
        "result3 = job3.result()\n",
        "counts3 = result3.get_counts()\n",
        "display(qc3.draw(output='mpl'))\n",
        "plot_histogram(counts3)\n",
        "plt.show()"
      ]
    },
    {
      "cell_type": "markdown",
      "id": "955c3c71",
      "metadata": {},
      "source": [
        "Task 4: Increase Measurement Shots"
      ]
    },
    {
      "cell_type": "code",
      "execution_count": 30,
      "id": "544a654f",
      "metadata": {},
      "outputs": [],
      "source": [
        "job4 = simulator.run(qc3, shots=4096)\n",
        "result4 = job4.result()\n",
        "counts4 = result4.get_counts()\n",
        "plot_histogram(counts4)\n",
        "plt.show()"
      ]
    },
    {
      "cell_type": "markdown",
      "id": "ebcae5c8",
      "metadata": {},
      "source": [
        "Task 5: Visualize Bloch Multivector"
      ]
    },
    {
      "cell_type": "code",
      "execution_count": null,
      "id": "1a5b76a8",
      "metadata": {},
      "outputs": [],
      "source": [
        "state_sim = Aer.get_backend('statevector_simulator')\n",
        "qc3_nom = qc3.remove_final_measurements(inplace=False)\n",
        "job_sv = state_sim.run(qc3_nom)\n",
        "state = job_sv.result().get_statevector()\n",
        "plot_bloch_multivector(state)\n",
        "plt.show()"
      ]
    }
  ],
  "metadata": {
    "colab": {
      "provenance": []
    },
    "kernelspec": {
      "display_name": "Python 3",
      "name": "python3"
    },
    "language_info": {
      "codemirror_mode": {
        "name": "ipython",
        "version": 3
      },
      "file_extension": ".py",
      "mimetype": "text/x-python",
      "name": "python",
      "nbconvert_exporter": "python",
      "pygments_lexer": "ipython3",
      "version": "3.9.13"
    }
  },
  "nbformat": 4,
  "nbformat_minor": 5
}
